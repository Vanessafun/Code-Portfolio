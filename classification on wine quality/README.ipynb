{
 "cells": [
  {
   "cell_type": "markdown",
   "metadata": {},
   "source": [
    "# Machine Learning in Python - Project 2\n",
    "\n",
    "Due Wednesday, April 15th by 5 pm"
   ]
  },
  {
   "cell_type": "markdown",
   "metadata": {},
   "source": [
    "## Data\n",
    "\n",
    "We will be using data exploring the quality and physicochemical characteristics of Portuguese Vinho Verde wine. These data come from a paper published by Cortez, et al. in Decision Support Systems in 2009, this paper has been included in the project folder. These data were developed for the purpose of predicting the quality of the wine based on its physicochemical characteristics.\n",
    "\n",
    "Below is a brief description of these features / physicochemical characteristics:\n",
    "\n",
    "* `quality` - score between 0 (worst) to 10 (best) based on blind taste tests\n",
    "* `wine` - type of wine, either `white` or `red`\n",
    "* `fixed_acidity` - grams of tartaric acid / dm$^3$\n",
    "* `volatile_acidity` - grams of acetic acid / dm$^3$\n",
    "* `citric_acid` - grams of citric acid / dm$^3$\n",
    "* `residual_sugar` - grams / dm$^3$\n",
    "* `chlorides` - grams of sodium chloride / dm$^3$\n",
    "* `free_sulfur_dioxide` - milligram / dm$^3$\n",
    "* `total_sulfur_dioxide` - milligram / dm$^3$\n",
    "* `density` - g/cm$^3$\n",
    "* `pH` - acidity\n",
    "* `sulphates` - grams of potassium sulphate / dm$^3$\n",
    "* `alcohol` - percent alcohol by volume\n",
    "\n",
    "We have provided three data files: `wine_qual_train.csv`, `wine_qual_test.csv`, and `wine_qual_holdout.csv` which contain 3000, 1000, and 1000 observations, respectively. The first two files can be used in any way you wish to train your model(s). As with the first project, the holdout file contains identical data to the test file which we will replace with new data after you turn in the assignment to obtain a true out-of-sample assessment of your final model. Additional details on this are provided in the project notebook's Model Validation section.\n",
    " "
   ]
  },
  {
   "cell_type": "markdown",
   "metadata": {},
   "source": [
    "   \n",
    "## Assignment\n",
    "\n",
    "For this project, you are tasked with developing a classification model for assessed quality of these wines. Rather than treating these scores as a numeric value and using a regression based approach we will discretize the quality data into the following categories: `excellent`, `good`, `average`, `poor`. The categorization must occur using the following table:\n",
    "\n",
    "| Quality Category  | Quality Score |\n",
    "|-------------------|:-------------:|\n",
    "| Excellent         | $\\geq 7$      |\n",
    "| Good              | $6$           |\n",
    "| Average           | $5$           |\n",
    "| Poor              | $\\leq 4$      |   \n",
    "\n",
    "The goal is therefore to develop a classification model for correctly identifying the quality category for a wine given its physicochemical characteristics. As with the first project the goal is to generate a model with high predictive accuracy while also being explainable - knowing what makes an \"excellent\" wine is just as, if not more, important than being able to separate \"good\" from \"average\" wines.\n",
    "\n",
    "Your model may use as few or as many of the provided features, and you may transform and manipulate these features in any way that you want to generate additional features. The only restriction is that you may not use any additional outside data in your model(s).\n",
    "\n",
    "We have covered a number of models and modeling approaches in the lectures and workshops and you should explore a variety of different approaches for this particular task. However, your ultimate goal is to deliver a single accurate and explainable model. These are competing interests and it is up to you to find a reasonable balance between the two - final marks will be based on how well you accomplish this.\n",
    "\n",
    "We have provided a template Jupyter notebook called `project2.ipynb` which includes all of the required sections along with brief instructions on what should be included in each section. All of your work must be contained in the `project2.ipynb` notebook, we will only mark what is included in this file. We have included instructions for each section, these instructions should be removed from the final document before submission. Additionally, feel free to include subsections or other alternative formatting, however please retain all 5 of the included sections. This final document should be no longer than ~10 pages (including code and figures).\n",
    "\n",
    "We have also included a `supp_mat.ipynb` file for any additional supplementary materials you would like to include. This is a good place to include alternative models that you ended up rejecting in favor of your final model."
   ]
  }
 
